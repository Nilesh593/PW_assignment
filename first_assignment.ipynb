{
 "cells": [
  {
   "cell_type": "markdown",
   "id": "526a3e99-06ff-4afe-90b9-db574874681a",
   "metadata": {},
   "source": [
    "Question 1 : Explain the key features of python that make it a popular choice for programming\n",
    "\n",
    "Answer :\n",
    "        Python is a highly popular programming language, known for several key features that contribute to its widespread adoption. Here are some of the main characteristics:\n",
    "\n",
    "Readability and Simplicity:\n",
    "Python's syntax is clear and easy to read, making it accessible to beginners.\n",
    "The language emphasizes readability, reducing the cost of program maintenance.\n",
    "\n",
    "Versatility:\n",
    "Python supports multiple programming paradigms, including procedural, object-oriented, and functional programming.\n",
    "It's used in various fields such as web development, data analysis, artificial intelligence, scientific computing, and more.\n",
    "\n",
    "Extensive Standard Library:\n",
    "Python comes with a comprehensive standard library that supports many common programming tasks such as file I/O, system calls, and internet protocols.\n",
    "This reduces the need to write code from scratch for common operations.\n",
    "\n",
    "Large Ecosystem of Third-Party Packages:\n",
    "The Python Package Index (PyPI) hosts thousands of third-party modules and packages, providing tools and frameworks for virtually any application.\n",
    "Popular libraries include NumPy and pandas for data science, Django and Flask for web development, and TensorFlow and PyTorch for machine learning.\n",
    "\n",
    "Cross-Platform Compatibility:\n",
    "Python is cross-platform, running on various operating systems including Windows, macOS, and Linux.\n",
    "This ensures that Python code can be executed in different environments without modification."
   ]
  },
  {
   "cell_type": "markdown",
   "id": "e5a7e7af-b693-49a3-9757-38655b4b31e2",
   "metadata": {},
   "source": [
    "Question 2: describe the role of predefined keywords in python and provide examples of how they are used in a program\n",
    "\n",
    "Answer:\n",
    "        Predefined keywords in Python are reserved words that have special meanings and functions. These keywords form the core syntax and structure of Python programs, and they cannot be used as identifiers (i.e., variable names, function names, etc.). Here is a description of some of the most commonly used Python keywords, along with examples of how they are used in a program:\n",
    "\n",
    "Control Flow Keywords: "
   ]
  },
  {
   "cell_type": "code",
   "execution_count": 1,
   "id": "06cb9ed9-b248-4327-bb90-726e4eac28d5",
   "metadata": {},
   "outputs": [
    {
     "name": "stdout",
     "output_type": "stream",
     "text": [
      "x is greater than 5\n",
      "0\n",
      "1\n",
      "2\n",
      "4\n"
     ]
    }
   ],
   "source": [
    "#if,elif,else,for: used for decision maing\n",
    "x = 10\n",
    "if x > 5:\n",
    "    print(\"x is greater than 5\")\n",
    "elif x == 5:\n",
    "    print(\"x is 5\")\n",
    "else:\n",
    "    print(\"x is less than 5\")\n",
    "\n",
    "for i in range(5):\n",
    "    if i == 3:\n",
    "        continue\n",
    "    print(i)\n"
   ]
  },
  {
   "cell_type": "code",
   "execution_count": 2,
   "id": "bdffbe75-b474-439e-ac4f-992bc2d3715e",
   "metadata": {},
   "outputs": [
    {
     "name": "stdout",
     "output_type": "stream",
     "text": [
      "0\n",
      "1\n",
      "2\n",
      "3\n",
      "4\n",
      "0\n",
      "1\n",
      "2\n",
      "3\n",
      "4\n"
     ]
    }
   ],
   "source": [
    "# for,while : used for decison making\n",
    "for i in range(5):\n",
    "    print(i)\n",
    "\n",
    "count = 0\n",
    "while count < 5:\n",
    "    print(count)\n",
    "    count += 1"
   ]
  },
  {
   "cell_type": "markdown",
   "id": "c96c1110-8e4a-4a5e-91d0-7af712a86bd8",
   "metadata": {},
   "source": [
    "Question 3 : compare and contrast mutable and immutable objects in python with examples\n",
    "\n",
    "Answer:\n",
    "        In Python, objects can be classified as mutable or immutable based on whether their state (i.e., data) can be changed after they are created. Here’s a detailed comparison of mutable and immutable objects, along with examples:\n",
    "\n",
    "Mutable Objects\n",
    "Characteristics:\n",
    "\n",
    "Mutable objects can be changed after they are created.\n",
    "Their contents or state can be modified in place.\n",
    "Common Mutable Types:\n",
    "\n",
    "Lists\n",
    "Dictionaries\n",
    "Sets\n",
    "Custom objects (instances of classes)\n",
    "\n",
    "Immutable Objects\n",
    "Characteristics:\n",
    "\n",
    "Immutable objects cannot be changed after they are created.\n",
    "Any modification creates a new object rather than altering the existing one.\n",
    "Common Immutable Types:\n",
    "\n",
    "Integers\n",
    "Floats\n",
    "Strings\n",
    "Tuples\n",
    "Frozensets"
   ]
  },
  {
   "cell_type": "code",
   "execution_count": 3,
   "id": "0d360e9d-5a36-444f-a7f8-4fdfa5b5a615",
   "metadata": {},
   "outputs": [
    {
     "name": "stdout",
     "output_type": "stream",
     "text": [
      "[4, 2, 3, 5]\n"
     ]
    }
   ],
   "source": [
    "#examples of mutable objects(list)\n",
    "\n",
    "my_list = [1, 2, 3]\n",
    "my_list[0] = 4  # Modifying the first element\n",
    "my_list.append(5)  # Adding a new element\n",
    "print(my_list)  # Output: [4, 2, 3, 5]\n"
   ]
  },
  {
   "cell_type": "code",
   "execution_count": 4,
   "id": "7442ef31-2300-431f-a132-4622de49a4e7",
   "metadata": {},
   "outputs": [
    {
     "name": "stdout",
     "output_type": "stream",
     "text": [
      "{'a': 3, 'b': 2, 'c': 4}\n"
     ]
    }
   ],
   "source": [
    "#examples of mutable objects(dictionary)\n",
    "\n",
    "my_dict = {'a': 1, 'b': 2}\n",
    "my_dict['a'] = 3  # Modifying the value associated with key 'a'\n",
    "my_dict['c'] = 4  # Adding a new key-value pair\n",
    "print(my_dict)  # Output: {'a': 3, 'b': 2, 'c': 4}\n"
   ]
  },
  {
   "cell_type": "code",
   "execution_count": 5,
   "id": "ed970c63-5e3e-415f-b62c-d1fa6026855e",
   "metadata": {},
   "outputs": [
    {
     "name": "stdout",
     "output_type": "stream",
     "text": [
      "{1, 3, 4}\n"
     ]
    }
   ],
   "source": [
    "#examples of mutable objects(sets)\n",
    "\n",
    "my_set = {1, 2, 3}\n",
    "my_set.add(4)  # Adding a new element\n",
    "my_set.remove(2)  # Removing an element\n",
    "print(my_set)  # Output: {1, 3, 4}\n"
   ]
  },
  {
   "cell_type": "code",
   "execution_count": 6,
   "id": "a4a6c69a-2c01-4c7e-8fe8-d4a56568ab02",
   "metadata": {},
   "outputs": [
    {
     "name": "stdout",
     "output_type": "stream",
     "text": [
      "10\n",
      "15\n"
     ]
    }
   ],
   "source": [
    "#examples of immutable objects(integer)\n",
    "\n",
    "x = 10\n",
    "y = x + 5  # This creates a new integer object and assigns it to y\n",
    "print(x)  # Output: 10\n",
    "print(y)  # Output: 15\n"
   ]
  },
  {
   "cell_type": "code",
   "execution_count": 8,
   "id": "a49960ab-802b-4bc3-b65c-139f7e2985a6",
   "metadata": {},
   "outputs": [
    {
     "name": "stdout",
     "output_type": "stream",
     "text": [
      "hello\n",
      "jello\n"
     ]
    }
   ],
   "source": [
    "#examples of immutable objects(string)\n",
    "\n",
    "my_string = \"hello\"\n",
    "new_string = my_string.replace(\"h\", \"j\")  # This creates a new string object\n",
    "print(my_string)  # Output: \"hello\"\n",
    "print(new_string)  # Output: \"jello\""
   ]
  },
  {
   "cell_type": "code",
   "execution_count": 9,
   "id": "761bdc6e-72b1-46bb-abf0-b277fb7c17f8",
   "metadata": {},
   "outputs": [
    {
     "name": "stdout",
     "output_type": "stream",
     "text": [
      "(1, 2, 3)\n",
      "(1, 2, 3, 4)\n"
     ]
    }
   ],
   "source": [
    "#examples of immutable objects(tuple)\n",
    "\n",
    "my_tuple = (1, 2, 3)\n",
    "new_tuple = my_tuple + (4,)  # This creates a new tuple object\n",
    "print(my_tuple)  # Output: (1, 2, 3)\n",
    "print(new_tuple)  # Output: (1, 2, 3, 4)\n"
   ]
  },
  {
   "cell_type": "markdown",
   "id": "363ccf87-5394-4c99-8506-223a0aafe1f2",
   "metadata": {},
   "source": [
    "Comparison\n",
    "\n",
    "Modification:\n",
    "Mutable objects can be modified in place, meaning their contents can change without creating a new object.\n",
    "Immutable objects cannot be modified in place; any changes create a new object.\n",
    "\n",
    "Performance:\n",
    "Mutable objects can be more efficient when frequent modifications are required, as they do not create new objects each time.\n",
    "Immutable objects can be more efficient for read-only data, as they are inherently thread-safe and can be shared without the need for locks.\n",
    "\n",
    "Use Cases:\n",
    "Mutable objects are suitable for collections of data that need to be updated, such as lists of user inputs or configurations.\n",
    "Immutable objects are suitable for constants, keys in dictionaries, and other scenarios where data integrity and immutability are required."
   ]
  },
  {
   "cell_type": "markdown",
   "id": "b203f524-bac7-4f43-932e-4c75c4c48f00",
   "metadata": {},
   "source": [
    "Question 4: discuss the different types of operators in python and provide examples of how they are used?\n",
    "\n",
    "Answer:\n",
    "        Arithmetic operators perform mathematical operations such as addition, subtraction, multiplication, and division.\n"
   ]
  },
  {
   "cell_type": "code",
   "execution_count": 10,
   "id": "711402e6-e053-4278-ad0f-4519f20588ea",
   "metadata": {},
   "outputs": [
    {
     "name": "stdout",
     "output_type": "stream",
     "text": [
      "8\n",
      "2\n",
      "15\n",
      "1.6666666666666667\n",
      "1\n",
      "2\n",
      "125\n"
     ]
    }
   ],
   "source": [
    "#uses of arithmetic operators\n",
    "x = 5\n",
    "y = 3\n",
    "print(x + y)  # Output: 8\n",
    "print(x - y)  # Output: 2\n",
    "print(x * y)  # Output: 15\n",
    "print(x / y)  # Output: 1.6666666666666667\n",
    "print(x // y)  # Output: 1\n",
    "print(x % y)  # Output: 2\n",
    "print(x ** y)  # Output: 125\n"
   ]
  },
  {
   "cell_type": "markdown",
   "id": "5c603ccb-5ed3-4f0b-bf28-bf0fee0c55cf",
   "metadata": {},
   "source": [
    "Comparison operators compare two values and return a boolean result (True or False)."
   ]
  },
  {
   "cell_type": "code",
   "execution_count": 11,
   "id": "c87aa112-d8b5-421a-a38a-b2beeb8ad492",
   "metadata": {},
   "outputs": [
    {
     "name": "stdout",
     "output_type": "stream",
     "text": [
      "False\n",
      "True\n",
      "True\n",
      "True\n",
      "False\n",
      "True\n",
      "False\n"
     ]
    }
   ],
   "source": [
    "#uses of comparison operators\n",
    "x= 5\n",
    "y= 3\n",
    "print(x == y)  # Output: False\n",
    "print(x != y)  # Output: True\n",
    "print(x > y)  # Output: True\n",
    "print(x > y)  # Output: True\n",
    "print(x < y)  # Output: False\n",
    "print(x >= y)  # Output: True\n",
    "print(x <= y)  # Output: False"
   ]
  },
  {
   "cell_type": "markdown",
   "id": "df9ea1bd-93c3-4d72-b4b7-2c3ba0612bc4",
   "metadata": {},
   "source": [
    "Assignment operators are used to assign values to variables."
   ]
  },
  {
   "cell_type": "code",
   "execution_count": 12,
   "id": "5c449d08-0716-40ca-9227-b2e87790365c",
   "metadata": {},
   "outputs": [
    {
     "name": "stdout",
     "output_type": "stream",
     "text": [
      "15\n",
      "12\n",
      "24\n",
      "6.0\n",
      "3.0\n",
      "1.0\n",
      "1.0\n"
     ]
    }
   ],
   "source": [
    "#uses of assignmnt operators\n",
    "\n",
    "a = 10\n",
    "\n",
    "a += 5  # Equivalent to a = a + 5\n",
    "print(a)  # Output: 15\n",
    "\n",
    "#Subtract and assign (-=):\n",
    "\n",
    "a -= 3  # Equivalent to a = a - 3\n",
    "print(a)  # Output: 12\n",
    "\n",
    "#Multiply and assign (*=):\n",
    "\n",
    "a *= 2  # Equivalent to a = a * 2\n",
    "print(a)  # Output: 24\n",
    "\n",
    "#Divide and assign (/=):\n",
    "\n",
    "a /= 4  # Equivalent to a = a / 4\n",
    "print(a)  # Output: 6.0\n",
    "\n",
    "#Floor divide and assign (//=):\n",
    "\n",
    "a //= 2  # Equivalent to a = a // 2\n",
    "print(a)  # Output: 3.0\n",
    "\n",
    "#Modulus and assign (%=):\n",
    "\n",
    "a %= 2  # Equivalent to a = a % 2\n",
    "print(a)  # Output: 1.0\n",
    "\n",
    "#Exponentiate and assign (**=):\n",
    "\n",
    "a **= 3  # Equivalent to a = a ** 3\n",
    "print(a)  # Output: 1.0"
   ]
  },
  {
   "cell_type": "markdown",
   "id": "5eff82a9-2493-4c2a-ba1e-53611cadd813",
   "metadata": {},
   "source": [
    "Logical operators are used to combine conditional statements"
   ]
  },
  {
   "cell_type": "code",
   "execution_count": 14,
   "id": "2f262a8d-9652-4b9b-b07a-8afd3f113c0f",
   "metadata": {},
   "outputs": [
    {
     "name": "stdout",
     "output_type": "stream",
     "text": [
      "True\n",
      "True\n",
      "False\n"
     ]
    }
   ],
   "source": [
    "#uses of logical operators\n",
    "\n",
    "x = 5\n",
    "y = 3\n",
    "print((x > 2) and (y < 4))  # Output: True\n",
    "\n",
    "print((x > 2) or (y > 4))  # Output: True\n",
    "\n",
    "print(not (x > 2))  # Output: False\n"
   ]
  },
  {
   "cell_type": "markdown",
   "id": "aad2698f-222d-46cc-afbb-26488490e639",
   "metadata": {},
   "source": [
    "Bitwise operators perform bit-level operations on integers"
   ]
  },
  {
   "cell_type": "code",
   "execution_count": 15,
   "id": "69c5fb08-0cf4-41c1-af21-79f50d7a408d",
   "metadata": {},
   "outputs": [
    {
     "name": "stdout",
     "output_type": "stream",
     "text": [
      "1\n",
      "7\n",
      "6\n",
      "-6\n",
      "10\n",
      "2\n"
     ]
    }
   ],
   "source": [
    "#uses of bitwise operators\n",
    "\n",
    "x = 5\n",
    "y = 3\n",
    "print(x & y)  # Output: 1\n",
    "print(x | y)  # Output: 7\n",
    "print(x ^ y)  # Output: 6\n",
    "print(~x)  # Output: -6\n",
    "print(x << 1)  # Output: 10\n",
    "print(x >> 1)  # Output: 2"
   ]
  },
  {
   "cell_type": "markdown",
   "id": "682da6ab-e093-46ba-b578-0816a6e455f4",
   "metadata": {},
   "source": [
    "Membership operators test for membership in a sequence such as strings, lists, or tuples"
   ]
  },
  {
   "cell_type": "code",
   "execution_count": 16,
   "id": "d07316bf-2f3e-4cce-8d83-ea3232e7bc58",
   "metadata": {},
   "outputs": [
    {
     "name": "stdout",
     "output_type": "stream",
     "text": [
      "True\n",
      "True\n"
     ]
    }
   ],
   "source": [
    "my_list = [1, 2, 3]\n",
    "print(2 in my_list)  # Output: True\n",
    "print(4 not in my_list)  # Output: True"
   ]
  },
  {
   "cell_type": "markdown",
   "id": "9dfaa6b0-800a-4418-b522-88a627e7297a",
   "metadata": {},
   "source": [
    "Identity operators compare the memory locations of two objects"
   ]
  },
  {
   "cell_type": "code",
   "execution_count": 18,
   "id": "399e0bd7-7016-4bfa-ba6b-0ee2abd91ebe",
   "metadata": {},
   "outputs": [
    {
     "name": "stdout",
     "output_type": "stream",
     "text": [
      "True\n",
      "True\n"
     ]
    }
   ],
   "source": [
    "#uses of identity operators\n",
    "\n",
    "a = [1, 2, 3]\n",
    "b = a\n",
    "print(a is b)  # Output: True\n",
    "c = [1, 2, 3]\n",
    "print(a is not c)  # Output: True"
   ]
  },
  {
   "cell_type": "markdown",
   "id": "a6d90445-73c6-4c3e-b004-610229366063",
   "metadata": {},
   "source": [
    "Question 5: explain the concept of typecasting in python with examples\n",
    "\n",
    "Answer:\n",
    "        Typecasting, also known as type conversion, is the process of converting one data type to another in Python. This can be done using built-in functions to explicitly convert data types. Typecasting is useful when you need to perform operations that require specific data types or when you want to ensure that your data is in the correct format.\n",
    "\n",
    "Implicit Typecasting: Python automatically converts one data type to another without explicit instruction from the programmer.\n",
    "Explicit Typecasting: The programmer manually converts one data type to another using built-in functions.\n",
    "\n",
    "Implicit typecasting occurs when Python automatically converts a smaller data type to a larger data type to prevent data loss."
   ]
  },
  {
   "cell_type": "code",
   "execution_count": 19,
   "id": "c51361e0-f774-4972-9411-bbb4a76db187",
   "metadata": {},
   "outputs": [
    {
     "name": "stdout",
     "output_type": "stream",
     "text": [
      "7.0\n",
      "<class 'float'>\n"
     ]
    }
   ],
   "source": [
    "# Implicit typecasting\n",
    "x = 5   # Integer\n",
    "y = 2.0 # Float\n",
    "result = x + y\n",
    "print(result)      \n",
    "print(type(result)) \n"
   ]
  },
  {
   "cell_type": "markdown",
   "id": "dfcf1882-c45b-4ab2-a419-e777d1c16a4c",
   "metadata": {},
   "source": [
    "Explicit typecasting is done using built-in functions like int(), float(), str(), list(), tuple(), set(), and dict()."
   ]
  },
  {
   "cell_type": "code",
   "execution_count": 20,
   "id": "6d6cb906-9ac3-44bb-86bb-2fe74a800de7",
   "metadata": {},
   "outputs": [
    {
     "name": "stdout",
     "output_type": "stream",
     "text": [
      "10\n",
      "<class 'str'>\n"
     ]
    }
   ],
   "source": [
    "#integer to string\n",
    "\n",
    "x = 10\n",
    "y = str(x)\n",
    "print(y)          \n",
    "print(type(y))    \n"
   ]
  },
  {
   "cell_type": "code",
   "execution_count": 21,
   "id": "e8ddd058-a108-4b86-b587-b05a74c1e3ce",
   "metadata": {},
   "outputs": [
    {
     "name": "stdout",
     "output_type": "stream",
     "text": [
      "123\n",
      "<class 'int'>\n"
     ]
    }
   ],
   "source": [
    "#string to integer\n",
    "\n",
    "x = \"123\"\n",
    "y = int(x)\n",
    "print(y)          \n",
    "print(type(y))    \n"
   ]
  },
  {
   "cell_type": "code",
   "execution_count": 22,
   "id": "0d163368-43b8-47f5-80b0-9ae2fa0c819b",
   "metadata": {},
   "outputs": [
    {
     "name": "stdout",
     "output_type": "stream",
     "text": [
      "10\n",
      "<class 'int'>\n"
     ]
    }
   ],
   "source": [
    "#float to integer\n",
    "\n",
    "x = 10.5\n",
    "y = int(x)\n",
    "print(y)          \n",
    "print(type(y))   \n"
   ]
  },
  {
   "cell_type": "code",
   "execution_count": 23,
   "id": "5342af65-d518-4464-87c0-c49308a52c07",
   "metadata": {},
   "outputs": [
    {
     "name": "stdout",
     "output_type": "stream",
     "text": [
      "5.0\n",
      "<class 'float'>\n"
     ]
    }
   ],
   "source": [
    "#integer to float\n",
    "\n",
    "x = 5\n",
    "y = float(x)\n",
    "print(y)          \n",
    "print(type(y))    \n"
   ]
  },
  {
   "cell_type": "code",
   "execution_count": 24,
   "id": "2ecb96c2-be8d-4b88-a40e-32635951ad8f",
   "metadata": {},
   "outputs": [
    {
     "name": "stdout",
     "output_type": "stream",
     "text": [
      "12.34\n",
      "<class 'float'>\n"
     ]
    }
   ],
   "source": [
    "#string to float\n",
    "\n",
    "x = \"12.34\"\n",
    "y = float(x)\n",
    "print(y)          \n",
    "print(type(y))    \n"
   ]
  },
  {
   "cell_type": "code",
   "execution_count": 25,
   "id": "fb4fcf59-3d60-4394-b4d0-fd7e0de9d436",
   "metadata": {},
   "outputs": [
    {
     "name": "stdout",
     "output_type": "stream",
     "text": [
      "(1, 2, 3)\n",
      "<class 'tuple'>\n"
     ]
    }
   ],
   "source": [
    "#list of float\n",
    "\n",
    "x = [1, 2, 3]\n",
    "y = tuple(x)\n",
    "print(y)          \n",
    "print(type(y))    \n"
   ]
  },
  {
   "cell_type": "code",
   "execution_count": 26,
   "id": "83826b62-0ba5-4135-b6da-4fb168b3665e",
   "metadata": {},
   "outputs": [
    {
     "name": "stdout",
     "output_type": "stream",
     "text": [
      "[1, 2, 3]\n",
      "<class 'list'>\n"
     ]
    }
   ],
   "source": [
    "#tuple to list\n",
    "\n",
    "x = (1, 2, 3)\n",
    "y = list(x)\n",
    "print(y)          \n",
    "print(type(y))    \n"
   ]
  },
  {
   "cell_type": "code",
   "execution_count": 27,
   "id": "ac7745ca-b2e3-4114-89e0-fa752cba9d0c",
   "metadata": {},
   "outputs": [
    {
     "name": "stdout",
     "output_type": "stream",
     "text": [
      "['h', 'e', 'l', 'l', 'o']\n",
      "<class 'list'>\n"
     ]
    }
   ],
   "source": [
    "#string to list\n",
    "\n",
    "x = \"hello\"\n",
    "y = list(x)\n",
    "print(y)          \n",
    "print(type(y))   \n"
   ]
  },
  {
   "cell_type": "code",
   "execution_count": 28,
   "id": "2c8ba43d-2724-4e59-a0e3-e977186a2bdf",
   "metadata": {},
   "outputs": [
    {
     "name": "stdout",
     "output_type": "stream",
     "text": [
      "{1, 2, 3}\n",
      "<class 'set'>\n"
     ]
    }
   ],
   "source": [
    "#list to set\n",
    "\n",
    "x = [1, 2, 3, 1]\n",
    "y = set(x)\n",
    "print(y)          \n",
    "print(type(y))  \n"
   ]
  },
  {
   "cell_type": "markdown",
   "id": "333747c1-3255-47c0-8ff9-614ad2bb49af",
   "metadata": {},
   "source": [
    "Question 6: how do conditional statement works in python?illustrate it with examples.\n",
    "\n",
    "Answer:\n",
    "        Conditional statements in Python allow you to execute specific blocks of code based on certain conditions. These conditions are typically Boolean expressions that evaluate to True or False. The most common conditional statements in Python are if, elif, and else.\n",
    "\n",
    "Basic Syntax\n",
    "\n",
    "if Statement: Executes a block of code if the condition is True.\n",
    "elif Statement: Stands for \"else if,\" and it allows you to check multiple conditions.\n",
    "else Statement: Executes a block of code if none of the previous conditions are True."
   ]
  },
  {
   "cell_type": "code",
   "execution_count": 30,
   "id": "a1e8f9d4-d110-4d47-8859-9277ad47af58",
   "metadata": {},
   "outputs": [
    {
     "name": "stdout",
     "output_type": "stream",
     "text": [
      "x is greater than 5\n"
     ]
    }
   ],
   "source": [
    "#using simple if\n",
    "\n",
    "x = 10\n",
    "if x > 5:\n",
    "    print(\"x is greater than 5\")\n"
   ]
  },
  {
   "cell_type": "code",
   "execution_count": 31,
   "id": "6baec9ff-d70a-4eef-8a6c-f54a0ced10de",
   "metadata": {},
   "outputs": [
    {
     "name": "stdout",
     "output_type": "stream",
     "text": [
      "x is not greater than 5\n"
     ]
    }
   ],
   "source": [
    "#using if-else statement\n",
    "x = 3\n",
    "if x > 5:\n",
    "    print(\"x is greater than 5\")\n",
    "else:\n",
    "    print(\"x is not greater than 5\")\n"
   ]
  },
  {
   "cell_type": "code",
   "execution_count": 32,
   "id": "c9a7c529-d46b-4262-9f3a-f11cb0503fdd",
   "metadata": {},
   "outputs": [
    {
     "name": "stdout",
     "output_type": "stream",
     "text": [
      "x is equal to 5\n"
     ]
    }
   ],
   "source": [
    "#using if-elif-else statement\n",
    "x = 5\n",
    "if x > 5:\n",
    "    print(\"x is greater than 5\")\n",
    "elif x == 5:\n",
    "    print(\"x is equal to 5\")\n",
    "else:\n",
    "    print(\"x is less than 5\")\n"
   ]
  },
  {
   "cell_type": "markdown",
   "id": "d7803ea0-f484-4a57-940b-bc30fbb85024",
   "metadata": {},
   "source": [
    "Question 7: describe the different types if loops in python and thei use cases with examples.\n",
    "\n",
    "Answer:\n",
    "  for Loop:\n",
    " A for loop is used to iterate over a sequence (such as a list, tuple, dictionary, set, or string) or any other iterable object. The loop runs for each item in the sequence.\n",
    "        \n",
    "  while Loop :       \n",
    " A while loop repeatedly executes a block of code as long as a specified condition is True."
   ]
  },
  {
   "cell_type": "code",
   "execution_count": 35,
   "id": "8b4cb180-c615-4e2e-bfac-44b07802a019",
   "metadata": {},
   "outputs": [
    {
     "name": "stdout",
     "output_type": "stream",
     "text": [
      "['donkey', 'dog', 'cat']\n",
      "['donkey', 'dog', 'cat']\n",
      "['donkey', 'dog', 'cat']\n"
     ]
    }
   ],
   "source": [
    "#usecase of for loop\n",
    "animals = [\"donkey\", \"dog\", \"cat\"]\n",
    "for alimals in animals:\n",
    "    print(animals)\n"
   ]
  },
  {
   "cell_type": "code",
   "execution_count": null,
   "id": "b8c23081-410e-4b9d-85a8-8cd851761c4e",
   "metadata": {},
   "outputs": [],
   "source": []
  },
  {
   "cell_type": "code",
   "execution_count": 2,
   "id": "688b86f7-5e38-4fbe-9541-07e58df7ef83",
   "metadata": {},
   "outputs": [
    {
     "name": "stdout",
     "output_type": "stream",
     "text": [
      "3\n",
      "4\n",
      "5\n"
     ]
    }
   ],
   "source": [
    "#usecase of while loop\n",
    "count = 3\n",
    "while count < 6:\n",
    "    print(count)\n",
    "    count += 1"
   ]
  },
  {
   "cell_type": "markdown",
   "id": "5c22ebd4-2824-4fab-b3e6-d89586ec1626",
   "metadata": {},
   "source": []
  }
 ],
 "metadata": {
  "kernelspec": {
   "display_name": "Python 3 (ipykernel)",
   "language": "python",
   "name": "python3"
  },
  "language_info": {
   "codemirror_mode": {
    "name": "ipython",
    "version": 3
   },
   "file_extension": ".py",
   "mimetype": "text/x-python",
   "name": "python",
   "nbconvert_exporter": "python",
   "pygments_lexer": "ipython3",
   "version": "3.12.4"
  }
 },
 "nbformat": 4,
 "nbformat_minor": 5
}
